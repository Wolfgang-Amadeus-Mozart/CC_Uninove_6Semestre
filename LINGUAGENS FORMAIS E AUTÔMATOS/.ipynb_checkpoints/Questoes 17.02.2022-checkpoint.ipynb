{
 "cells": [
  {
   "cell_type": "markdown",
   "id": "f457cc46",
   "metadata": {},
   "source": [
    "<img src=\"questão_17.02.2022.png\"> </img>"
   ]
  },
  {
   "cell_type": "code",
   "execution_count": 10,
   "id": "7280b445",
   "metadata": {},
   "outputs": [],
   "source": [
    "dici = {'A':[-1,0,1,2],\n",
    "        'B':[0,1,2,3,4,5]\n",
    "}"
   ]
  },
  {
   "cell_type": "code",
   "execution_count": 21,
   "id": "0cbd04c1",
   "metadata": {},
   "outputs": [
    {
     "name": "stdout",
     "output_type": "stream",
     "text": [
      "( -1 0 )\n",
      "( 0 1 )\n",
      "( 1 2 )\n",
      "( 2 3 )\n"
     ]
    }
   ],
   "source": [
    "for item in dici['A']:\n",
    "    print('(', item,item+1, ')')"
   ]
  },
  {
   "attachments": {},
   "cell_type": "markdown",
   "id": "bf77cfd6",
   "metadata": {},
   "source": [
    "<img src=\"questao2.png\"> </img>"
   ]
  }
 ],
 "metadata": {
  "kernelspec": {
   "display_name": "Python 3 (ipykernel)",
   "language": "python",
   "name": "python3"
  },
  "language_info": {
   "codemirror_mode": {
    "name": "ipython",
    "version": 3
   },
   "file_extension": ".py",
   "mimetype": "text/x-python",
   "name": "python",
   "nbconvert_exporter": "python",
   "pygments_lexer": "ipython3",
   "version": "3.9.7"
  }
 },
 "nbformat": 4,
 "nbformat_minor": 5
}
