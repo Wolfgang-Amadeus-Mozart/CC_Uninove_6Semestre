{
 "cells": [
  {
   "cell_type": "markdown",
   "id": "b293a3b2",
   "metadata": {},
   "source": [
    "<img src=\"questão_17.02.2022.png\"> </img>"
   ]
  },
  {
   "cell_type": "code",
   "execution_count": 10,
   "id": "7280b445",
   "metadata": {},
   "outputs": [],
   "source": [
    "dici = {'A':[-1,0,1,2],\n",
    "        'B':[0,1,2,3,4,5]\n",
    "}"
   ]
  },
  {
   "cell_type": "code",
   "execution_count": 21,
   "id": "0cbd04c1",
   "metadata": {},
   "outputs": [
    {
     "name": "stdout",
     "output_type": "stream",
     "text": [
      "( -1 0 )\n",
      "( 0 1 )\n",
      "( 1 2 )\n",
      "( 2 3 )\n"
     ]
    }
   ],
   "source": [
    "for item in dici['A']:\n",
    "    print('(', item,item+1, ')')"
   ]
  },
  {
   "attachments": {},
   "cell_type": "markdown",
   "id": "9d319609",
   "metadata": {},
   "source": [
    "<img src=\"questao2.png\"> </img>"
   ]
  },
  {
   "cell_type": "markdown",
   "id": "c866e773",
   "metadata": {},
   "source": [
    "Segundo o professor, N estava para o conjunto de numeros naturais"
   ]
  },
  {
   "cell_type": "code",
   "execution_count": 1,
   "id": "03514acb",
   "metadata": {},
   "outputs": [],
   "source": [
    "N = [1,2,3,4,5,6,7,8]"
   ]
  },
  {
   "cell_type": "code",
   "execution_count": 5,
   "id": "6de8cb1c",
   "metadata": {},
   "outputs": [
    {
     "name": "stdout",
     "output_type": "stream",
     "text": [
      "1 2\n",
      "2 3\n",
      "3 4\n"
     ]
    }
   ],
   "source": [
    "#a)\n",
    "\n",
    "for i in range(0,3):\n",
    "    if (N[i] + N[i+1]) <= 7:\n",
    "        print(N[i], N[i+1])\n",
    "        "
   ]
  },
  {
   "cell_type": "code",
   "execution_count": 7,
   "id": "edb67f9c",
   "metadata": {},
   "outputs": [
    {
     "name": "stdout",
     "output_type": "stream",
     "text": [
      "1 3\n",
      "2 4\n",
      "3 5\n"
     ]
    }
   ],
   "source": [
    "#b\n",
    "\n",
    "for i in range(0,3):\n",
    "    print(N[i], N[i]+2)\n",
    "    "
   ]
  },
  {
   "cell_type": "code",
   "execution_count": 13,
   "id": "5b2865fc",
   "metadata": {},
   "outputs": [],
   "source": [
    "#c\n",
    "\n",
    "for i in range(0,7):\n",
    "    if ( (N[i] * 2) + (N[i+1]*3)) == 10:\n",
    "        print(N[i], N[i+1])"
   ]
  }
 ],
 "metadata": {
  "kernelspec": {
   "display_name": "Python 3 (ipykernel)",
   "language": "python",
   "name": "python3"
  },
  "language_info": {
   "codemirror_mode": {
    "name": "ipython",
    "version": 3
   },
   "file_extension": ".py",
   "mimetype": "text/x-python",
   "name": "python",
   "nbconvert_exporter": "python",
   "pygments_lexer": "ipython3",
   "version": "3.9.7"
  }
 },
 "nbformat": 4,
 "nbformat_minor": 5
}
